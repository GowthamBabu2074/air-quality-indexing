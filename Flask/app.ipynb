{
 "cells": [
  {
   "cell_type": "code",
   "execution_count": 15,
   "metadata": {},
   "outputs": [
    {
     "name": "stdout",
     "output_type": "stream",
     "text": [
      " * Serving Flask app \"__main__\" (lazy loading)\n",
      " * Environment: production\n",
      "   WARNING: This is a development server. Do not use it in a production deployment.\n",
      "   Use a production WSGI server instead.\n",
      " * Debug mode: on\n"
     ]
    },
    {
     "name": "stderr",
     "output_type": "stream",
     "text": [
      " * Running on http://127.0.0.1:5000/ (Press CTRL+C to quit)\n",
      "127.0.0.1 - - [20/Jun/2021 18:06:15] \"\u001b[37mGET / HTTP/1.1\u001b[0m\" 200 -\n",
      "127.0.0.1 - - [20/Jun/2021 18:07:17] \"\u001b[37mPOST /predict HTTP/1.1\u001b[0m\" 200 -\n"
     ]
    }
   ],
   "source": [
    "from flask import Flask, render_template, request\n",
    "import requests\n",
    "import pickle\n",
    "from flask import jsonify\n",
    "import numpy as np\n",
    "app = Flask(__name__)\n",
    "model = pickle.load(open(\"model.pkl\",\"rb\"))\n",
    "\n",
    "@app.route('/',methods=['GET'])\n",
    "def Home():\n",
    "    return render_template('index.html')\n",
    "\n",
    "@app.route(\"/predict\", methods=['POST'])\n",
    "def predict():\n",
    "    if request.method == 'POST':\n",
    "        avg_temp = float(request.form['avg_temp'])\n",
    "        max_temp = float(request.form['max_temp'])\n",
    "        min_temp = float(request.form['min_temp'])\n",
    "        atmospheric_pressure = float(request.form['atmospheric_pressure'])\n",
    "        avg_humidity = float(request.form['avg_humidity'])\n",
    "        avg_visibility = float(request.form['avg_visibility'])\n",
    "        avg_wind_speed = float(request.form['avg_wind_speed'])\n",
    "        max_wind_speed = float(request.form['max_wind_speed'])\n",
    "\n",
    "        prediction = model.predict([[avg_temp, max_temp, min_temp, atmospheric_pressure, avg_humidity, avg_visibility, \n",
    "                                          avg_wind_speed, max_wind_speed ]])\n",
    "\n",
    "        output = prediction\n",
    "        if output<35.1:\n",
    "            return render_template('index.html',prediction_text=\"The air quality is low/ moderate at {}\". format(output))\n",
    "        else:\n",
    "            return render_template('index.html',prediction_text=\"The air quality is high at {}\".format(output))\n",
    "    else:\n",
    "        return render_template('index.html')\n",
    "    \n",
    "if __name__ == \"__main__\":\n",
    "    app.run(debug=True, use_reloader=False)"
   ]
  },
  {
   "cell_type": "code",
   "execution_count": null,
   "metadata": {},
   "outputs": [],
   "source": []
  }
 ],
 "metadata": {
  "kernelspec": {
   "display_name": "Python 3",
   "language": "python",
   "name": "python3"
  },
  "language_info": {
   "codemirror_mode": {
    "name": "ipython",
    "version": 3
   },
   "file_extension": ".py",
   "mimetype": "text/x-python",
   "name": "python",
   "nbconvert_exporter": "python",
   "pygments_lexer": "ipython3",
   "version": "3.8.3"
  }
 },
 "nbformat": 4,
 "nbformat_minor": 4
}
